{
 "cells": [
  {
   "cell_type": "markdown",
   "metadata": {},
   "source": [
    "### Lectura de datos\n",
    "Levantamos como siempre nuestra red en Neworkx. Podrían levantarla y visualizarla con Gephi directamente (soporta lectura en muchos formatos), pero en general uno quiere hacer algún tipo de análisis de los datos (con networkX, igraph, etc..) antes de visualizar. Si bien Gephi tiene algunos algoritmos incorporados (calculo de centralidad, clustering, etc..) es mas bien una herramienta de visualización."
   ]
  },
  {
   "cell_type": "code",
   "execution_count": 15,
   "metadata": {},
   "outputs": [],
   "source": [
    "import numpy as np\n",
    "import networkx as nx\n",
    "\n",
    "def ldata(archive):\n",
    "    f = open(archive)\n",
    "    data = []\n",
    "    for line in f:\n",
    "        line = line.strip()\n",
    "        col = line.split()\n",
    "        data.append(col)\n",
    "    return data\n",
    "    \n",
    "dolphins = nx.read_gml('dolphins.gml')"
   ]
  },
  {
   "cell_type": "markdown",
   "metadata": {},
   "source": [
    "### Creación de atributos\n",
    "Como ejemplo, vamos a agregarle como atributo a los nodos su género y el valor de su coeficiente de clustering local. Con Gephi vamos a poder visualizar estos atributos."
   ]
  },
  {
   "cell_type": "code",
   "execution_count": 32,
   "metadata": {},
   "outputs": [],
   "source": [
    "gender = ldata('dolphinsGender.txt')\n",
    "gender = [gender[n][1] for n in range(len(gender))]\n",
    "\n",
    "for n,g in zip(dolphins.nodes,gender):\n",
    "    dolphins.nodes[n]['gender'] = g"
   ]
  },
  {
   "cell_type": "code",
   "execution_count": 33,
   "metadata": {},
   "outputs": [],
   "source": [
    "loc_clus =  dict(nx.clustering(dolphins))\n",
    "for n,c in loc_clus.items():\n",
    "    dolphins.nodes[n]['loc_clus'] = c"
   ]
  },
  {
   "cell_type": "markdown",
   "metadata": {},
   "source": [
    "### Exportamos el grafo\n",
    "Para levantar el grafo con Gephi, vamos a exportarlo en formato GEXF."
   ]
  },
  {
   "cell_type": "code",
   "execution_count": 34,
   "metadata": {
    "collapsed": true
   },
   "outputs": [],
   "source": [
    "nx.write_gexf(dolphins,'delfines.gexf')"
   ]
  },
  {
   "cell_type": "markdown",
   "metadata": {},
   "source": [
    "### Listo!\n",
    "Ya podemos importar el grafo desde Gephi."
   ]
  }
 ],
 "metadata": {
  "kernelspec": {
   "display_name": "Python 3",
   "language": "python",
   "name": "python3"
  },
  "language_info": {
   "codemirror_mode": {
    "name": "ipython",
    "version": 3
   },
   "file_extension": ".py",
   "mimetype": "text/x-python",
   "name": "python",
   "nbconvert_exporter": "python",
   "pygments_lexer": "ipython3",
   "version": "3.6.3"
  }
 },
 "nbformat": 4,
 "nbformat_minor": 2
}
