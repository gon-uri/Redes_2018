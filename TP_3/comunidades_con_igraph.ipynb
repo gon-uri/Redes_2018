{
 "cells": [
  {
   "cell_type": "markdown",
   "metadata": {},
   "source": [
    "Para instalar el paquete rpy2 en linux, deben tener una version de R actualizada (3.02 o superior) y deben ejecutar en la terminal: 'pip3 install rpy2'. Recuerden que si estan en las maquinas del labo deben agregar el flag '--user' despues de la palabra install (para que se instale en su usuario): 'pip3 install --user rpy2'. "
   ]
  },
  {
   "cell_type": "code",
   "execution_count": 1,
   "metadata": {
    "collapsed": true
   },
   "outputs": [],
   "source": [
    "import networkx as nx\n",
    "import matplotlib.pylab as plt\n",
    "%matplotlib inline\n",
    "\n",
    "# from rpy2.robjects.packages import importr\n",
    "# igraph = importr('igraph')\n",
    "# import pandas as pd\n",
    "# from rpy2.robjects import r, pandas2ri\n",
    "# a = pandas2ri.py2ri(nx.to_pandas_adjacency(nxG))\n",
    "\n",
    "import os\n",
    "import numpy as np\n",
    "import rpy2.robjects as robjects"
   ]
  },
  {
   "cell_type": "code",
   "execution_count": 23,
   "metadata": {
    "collapsed": true
   },
   "outputs": [],
   "source": [
    "def community(nxG, algorithm, fig_name = \"G\"):\n",
    "    \"\"\"\n",
    "    In:\n",
    "        nxG: grafo de networkx.\n",
    "        algorithm: string, entre las siguientes opciones: \n",
    "            fast_greedy\n",
    "            edge_betweenness\n",
    "            louvain\n",
    "            infomap\n",
    "        fig_name: nombre de la figura que se genera al clsuterizar. Le agrega automaticamente el nombre del algoritmo usado y el nombre del grafo si lo tuviere\n",
    "    Out:\n",
    "        labels: numpy array con la pertenencia de cada nodo al cluster.\n",
    "    \n",
    "    \"\"\"\n",
    "    gml_file_name = \"G.gml\"\n",
    "    fig_name += \"_\"+nxG.name+\"_\"+algorithm+\".svg\"\n",
    "    nx.write_gml(nxG, gml_file_name)\n",
    "    \n",
    "    igG = robjects.r('''\n",
    "        f <- function(file, algorithm, fig_name){\n",
    "            require(\"igraph\")     \n",
    "            \n",
    "            G <- read.graph(file, \"gml\")\n",
    "            #format = c(\"edgelist\", \"pajek\", \"ncol\", \"lgl\", \"graphml\",\"dimacs\", \"graphdb\", \"gml\", \"dl\"), ...)\n",
    "            \n",
    "            if(algorithm == \"fast_greedy\"){\n",
    "                c <- fastgreedy.community(G)\n",
    "                #c <- cluster_fast_greedy(G, merges = TRUE, modularity = TRUE, membership = TRUE)\n",
    "            }\n",
    "            \n",
    "            if(algorithm == \"edge_betweenness\"){\n",
    "                c <- edge.betweenness.community(G)\n",
    "                #c <- cluster_edge_betweenness(G,directed = FALSE,edge.betweenness = TRUE)\n",
    "            }\n",
    "            \n",
    "            if(algorithm == \"louvain\"){\n",
    "                c <- multilevel.community(G)\n",
    "                #c <- cluster_louvain(G)\n",
    "            }\n",
    "            \n",
    "            if(algorithm == \"infomap\"){\n",
    "                #c <- cluster_infomap(G)\n",
    "                c <- infomap.community(G)\n",
    "            }\n",
    "            \n",
    "            svg(fig_name)\n",
    "            plot(c, G)\n",
    "            dev.off()\n",
    "            \n",
    "            return(membership(c))\n",
    "        }\n",
    "    ''')\n",
    "    \n",
    "    labels = igG(gml_file_name, algorithm, fig_name)\n",
    "    os.remove(gml_file_name)\n",
    "    return np.array(labels)\n",
    "\n"
   ]
  },
  {
   "cell_type": "code",
   "execution_count": null,
   "metadata": {
    "collapsed": true
   },
   "outputs": [],
   "source": [
    "def community(nxG, algorithm, fig_name = \"G\"):\n",
    "    \"\"\"\n",
    "    In:\n",
    "        nxG: grafo de networkx.\n",
    "        algorithm: string, entre las siguientes opciones: \n",
    "            fast_greedy\n",
    "            edge_betweenness\n",
    "            louvain\n",
    "            infomap\n",
    "        fig_name: nombre de la figura que se genera al clsuterizar. Le agrega automaticamente el nombre del algoritmo usado y el nombre del grafo si lo tuviere\n",
    "    Out:\n",
    "        labels: numpy array con la pertenencia de cada nodo al cluster.\n",
    "    \n",
    "    \"\"\"\n",
    "    gml_file_name = \"G.gml\"\n",
    "    fig_name += \"_\"+nxG.name+\"_\"+algorithm+\".svg\"\n",
    "    nx.write_gml(nxG, gml_file_name)\n",
    "    \n",
    "    igG = robjects.r('''\n",
    "        f <- function(file, algorithm, fig_name){\n",
    "            require(\"igraph\")     \n",
    "            \n",
    "            #G <- read.graph(file, \"gml\")\n",
    "            G <- read_graph(file, \"gml\")\n",
    "            #format = c(\"edgelist\", \"pajek\", \"ncol\", \"lgl\", \"graphml\",\"dimacs\", \"graphdb\", \"gml\", \"dl\"), ...)\n",
    "            \n",
    "            if(algorithm == \"fast_greedy\"){\n",
    "                #c <- fastgreedy.community(G)\n",
    "                c <- cluster_fast_greedy(G, merges = TRUE, modularity = TRUE, membership = TRUE)\n",
    "            }\n",
    "            \n",
    "            if(algorithm == \"edge_betweenness\"){\n",
    "                #c <- edge.betweenness.community(G)\n",
    "                c <- cluster_edge_betweenness(G,directed = FALSE,edge.betweenness = TRUE)\n",
    "            }\n",
    "            \n",
    "            if(algorithm == \"louvain\"){\n",
    "                #c <- multilevel.community(G)\n",
    "                c <- cluster_louvain(G)\n",
    "            }\n",
    "            \n",
    "            if(algorithm == \"infomap\"){\n",
    "                c <- cluster_infomap(G)\n",
    "                #c <- infomap.community(G)\n",
    "            }\n",
    "            \n",
    "            svg(fig_name)\n",
    "            plot(c, G)\n",
    "            dev.off()\n",
    "            \n",
    "            return(membership(c))\n",
    "        }\n",
    "    ''')\n",
    "    \n",
    "    labels = igG(gml_file_name, algorithm, fig_name)\n",
    "    os.remove(gml_file_name)\n",
    "    return np.array(labels)"
   ]
  },
  {
   "cell_type": "code",
   "execution_count": 3,
   "metadata": {},
   "outputs": [
    {
     "name": "stdout",
     "output_type": "stream",
     "text": [
      "Help on function community in module __main__:\n",
      "\n",
      "community(nxG, algorithm, fig_name='G')\n",
      "    In:\n",
      "        nxG: grafo de networkx.\n",
      "        algorithm: string, entre las siguientes opciones: \n",
      "            fast_greedy\n",
      "            edge_betweenness\n",
      "            louvain\n",
      "            infomap\n",
      "        fig_name: nombre de la figura que se genera al clsuterizar. Le agrega automaticamente el nombre del algoritmo usado y el nombre del grafo si lo tuviere\n",
      "    Out:\n",
      "        labels: numpy array con la pertenencia de cada nodo al cluster.\n",
      "\n"
     ]
    }
   ],
   "source": [
    "help(community)"
   ]
  },
  {
   "cell_type": "code",
   "execution_count": 4,
   "metadata": {},
   "outputs": [
    {
     "data": {
      "text/plain": [
       "<matplotlib.text.Text at 0x7fe816c164e0>"
      ]
     },
     "execution_count": 4,
     "metadata": {},
     "output_type": "execute_result"
    },
    {
     "data": {
      "image/png": "[encoded data removed]",
      "text/plain": [
       "<matplotlib.figure.Figure at 0x7fe8482387f0>"
      ]
     },
     "metadata": {},
     "output_type": "display_data"
    }
   ],
   "source": [
    "nxG = nx.gnp_random_graph(100, 0.02, seed=None, directed=False)\n",
    "nxG.name = \"Random\"\n",
    "\n",
    "nx.draw_networkx(nxG)\n",
    "plt.axis(\"off\")\n",
    "plt.title(nxG.name)"
   ]
  },
  {
   "cell_type": "code",
   "execution_count": 24,
   "metadata": {
    "collapsed": true
   },
   "outputs": [],
   "source": [
    "labels_infomap = community(nxG, \"infomap\")\n",
    "labels_infomap = community(nxG, \"fast_greedy\")\n",
    "labels_infomap = community(nxG, \"edge_betweenness\")\n",
    "labels_infomap = community(nxG, \"louvain\")"
   ]
  },
  {
   "cell_type": "markdown",
   "metadata": {},
   "source": [
    "Les sugerimos implementar el algoritmo para calcular silhuette, pero tambien puede chequear los algoritmos existentes: http://scikit-learn.org/stable/auto_examples/cluster/plot_kmeans_silhouette_analysis.html"
   ]
  }
 ],
 "metadata": {
  "kernelspec": {
   "display_name": "Python 3",
   "language": "python",
   "name": "python3"
  },
  "language_info": {
   "codemirror_mode": {
    "name": "ipython",
    "version": 3
   },
   "file_extension": ".py",
   "mimetype": "text/x-python",
   "name": "python",
   "nbconvert_exporter": "python",
   "pygments_lexer": "ipython3",
   "version": "3.5.2"
  }
 },
 "nbformat": 4,
 "nbformat_minor": 2
}
